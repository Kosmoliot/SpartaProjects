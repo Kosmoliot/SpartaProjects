{
 "cells": [
  {
   "cell_type": "markdown",
   "metadata": {},
   "source": [
    "\n",
    "# Analysing Police Activity"
   ]
  },
  {
   "cell_type": "code",
   "execution_count": 889,
   "metadata": {},
   "outputs": [],
   "source": [
    "import pandas as pd\n"
   ]
  },
  {
   "cell_type": "markdown",
   "metadata": {},
   "source": [
    "# Cleaning"
   ]
  },
  {
   "cell_type": "code",
   "execution_count": 890,
   "metadata": {},
   "outputs": [
    {
     "name": "stdout",
     "output_type": "stream",
     "text": [
      "The data has 18439 columns and 26 rows.\n"
     ]
    },
    {
     "data": {
      "text/html": [
       "<div>\n",
       "<style scoped>\n",
       "    .dataframe tbody tr th:only-of-type {\n",
       "        vertical-align: middle;\n",
       "    }\n",
       "\n",
       "    .dataframe tbody tr th {\n",
       "        vertical-align: top;\n",
       "    }\n",
       "\n",
       "    .dataframe thead th {\n",
       "        text-align: right;\n",
       "    }\n",
       "</style>\n",
       "<table border=\"1\" class=\"dataframe\">\n",
       "  <thead>\n",
       "    <tr style=\"text-align: right;\">\n",
       "      <th></th>\n",
       "      <th>raw_row_number</th>\n",
       "      <th>date</th>\n",
       "      <th>time</th>\n",
       "      <th>location</th>\n",
       "      <th>lat</th>\n",
       "      <th>lng</th>\n",
       "      <th>district</th>\n",
       "      <th>subject_age</th>\n",
       "      <th>subject_race</th>\n",
       "      <th>subject_sex</th>\n",
       "      <th>...</th>\n",
       "      <th>outcome</th>\n",
       "      <th>contraband_found</th>\n",
       "      <th>search_conducted</th>\n",
       "      <th>search_vehicle</th>\n",
       "      <th>search_basis</th>\n",
       "      <th>reason_for_stop</th>\n",
       "      <th>raw_subject_race_code</th>\n",
       "      <th>raw_subject_ethnicity_code</th>\n",
       "      <th>raw_search_authorization_code</th>\n",
       "      <th>raw_intervention_disposition_code</th>\n",
       "    </tr>\n",
       "  </thead>\n",
       "  <tbody>\n",
       "    <tr>\n",
       "      <th>0</th>\n",
       "      <td>1</td>\n",
       "      <td>2013-10-13</td>\n",
       "      <td>15:21:00</td>\n",
       "      <td>LINNMORE ST AT ROGER</td>\n",
       "      <td>41.732189</td>\n",
       "      <td>-72.699760</td>\n",
       "      <td>SOUTH WEST</td>\n",
       "      <td>38.0</td>\n",
       "      <td>hispanic</td>\n",
       "      <td>female</td>\n",
       "      <td>...</td>\n",
       "      <td>citation</td>\n",
       "      <td>NaN</td>\n",
       "      <td>False</td>\n",
       "      <td>False</td>\n",
       "      <td>NaN</td>\n",
       "      <td>Stop Sign</td>\n",
       "      <td>W</td>\n",
       "      <td>H</td>\n",
       "      <td>N</td>\n",
       "      <td>I</td>\n",
       "    </tr>\n",
       "    <tr>\n",
       "      <th>1</th>\n",
       "      <td>2</td>\n",
       "      <td>2013-10-24</td>\n",
       "      <td>01:12:00</td>\n",
       "      <td>HAWTHORN STREET @ IMLAY STREET</td>\n",
       "      <td>41.764621</td>\n",
       "      <td>-72.695362</td>\n",
       "      <td>ASYLUM HILL</td>\n",
       "      <td>20.0</td>\n",
       "      <td>black</td>\n",
       "      <td>male</td>\n",
       "      <td>...</td>\n",
       "      <td>citation</td>\n",
       "      <td>NaN</td>\n",
       "      <td>False</td>\n",
       "      <td>False</td>\n",
       "      <td>NaN</td>\n",
       "      <td>Defective Lights</td>\n",
       "      <td>B</td>\n",
       "      <td>N</td>\n",
       "      <td>N</td>\n",
       "      <td>I</td>\n",
       "    </tr>\n",
       "    <tr>\n",
       "      <th>2</th>\n",
       "      <td>3</td>\n",
       "      <td>2013-10-26</td>\n",
       "      <td>10:06:00</td>\n",
       "      <td>NEW PARK MIRRILL</td>\n",
       "      <td>41.747837</td>\n",
       "      <td>-72.712933</td>\n",
       "      <td>PARKVILLE</td>\n",
       "      <td>26.0</td>\n",
       "      <td>white</td>\n",
       "      <td>female</td>\n",
       "      <td>...</td>\n",
       "      <td>citation</td>\n",
       "      <td>NaN</td>\n",
       "      <td>False</td>\n",
       "      <td>False</td>\n",
       "      <td>NaN</td>\n",
       "      <td>Traffic Control Signal</td>\n",
       "      <td>W</td>\n",
       "      <td>N</td>\n",
       "      <td>N</td>\n",
       "      <td>I</td>\n",
       "    </tr>\n",
       "    <tr>\n",
       "      <th>3</th>\n",
       "      <td>4</td>\n",
       "      <td>2013-10-26</td>\n",
       "      <td>18:06:00</td>\n",
       "      <td>nfew park at merrill st</td>\n",
       "      <td>41.748069</td>\n",
       "      <td>-72.712641</td>\n",
       "      <td>PARKVILLE</td>\n",
       "      <td>26.0</td>\n",
       "      <td>white</td>\n",
       "      <td>female</td>\n",
       "      <td>...</td>\n",
       "      <td>citation</td>\n",
       "      <td>NaN</td>\n",
       "      <td>False</td>\n",
       "      <td>False</td>\n",
       "      <td>NaN</td>\n",
       "      <td>Traffic Control Signal</td>\n",
       "      <td>W</td>\n",
       "      <td>N</td>\n",
       "      <td>N</td>\n",
       "      <td>I</td>\n",
       "    </tr>\n",
       "    <tr>\n",
       "      <th>4</th>\n",
       "      <td>5</td>\n",
       "      <td>2013-10-26</td>\n",
       "      <td>19:56:00</td>\n",
       "      <td>SUMMIT ST AT ZION ST</td>\n",
       "      <td>41.753945</td>\n",
       "      <td>-72.693278</td>\n",
       "      <td>FROG HOLLOW</td>\n",
       "      <td>39.0</td>\n",
       "      <td>white</td>\n",
       "      <td>male</td>\n",
       "      <td>...</td>\n",
       "      <td>citation</td>\n",
       "      <td>NaN</td>\n",
       "      <td>False</td>\n",
       "      <td>False</td>\n",
       "      <td>NaN</td>\n",
       "      <td>Stop Sign</td>\n",
       "      <td>W</td>\n",
       "      <td>N</td>\n",
       "      <td>N</td>\n",
       "      <td>I</td>\n",
       "    </tr>\n",
       "  </tbody>\n",
       "</table>\n",
       "<p>5 rows × 26 columns</p>\n",
       "</div>"
      ],
      "text/plain": [
       "  raw_row_number        date      time                        location   \n",
       "0              1  2013-10-13  15:21:00            LINNMORE ST AT ROGER  \\\n",
       "1              2  2013-10-24  01:12:00  HAWTHORN STREET @ IMLAY STREET   \n",
       "2              3  2013-10-26  10:06:00                NEW PARK MIRRILL   \n",
       "3              4  2013-10-26  18:06:00         nfew park at merrill st   \n",
       "4              5  2013-10-26  19:56:00            SUMMIT ST AT ZION ST   \n",
       "\n",
       "         lat        lng     district  subject_age subject_race subject_sex   \n",
       "0  41.732189 -72.699760   SOUTH WEST         38.0     hispanic      female  \\\n",
       "1  41.764621 -72.695362  ASYLUM HILL         20.0        black        male   \n",
       "2  41.747837 -72.712933    PARKVILLE         26.0        white      female   \n",
       "3  41.748069 -72.712641    PARKVILLE         26.0        white      female   \n",
       "4  41.753945 -72.693278  FROG HOLLOW         39.0        white        male   \n",
       "\n",
       "   ...   outcome contraband_found search_conducted search_vehicle   \n",
       "0  ...  citation              NaN            False          False  \\\n",
       "1  ...  citation              NaN            False          False   \n",
       "2  ...  citation              NaN            False          False   \n",
       "3  ...  citation              NaN            False          False   \n",
       "4  ...  citation              NaN            False          False   \n",
       "\n",
       "   search_basis         reason_for_stop raw_subject_race_code   \n",
       "0           NaN               Stop Sign                     W  \\\n",
       "1           NaN        Defective Lights                     B   \n",
       "2           NaN  Traffic Control Signal                     W   \n",
       "3           NaN  Traffic Control Signal                     W   \n",
       "4           NaN               Stop Sign                     W   \n",
       "\n",
       "  raw_subject_ethnicity_code  raw_search_authorization_code   \n",
       "0                          H                              N  \\\n",
       "1                          N                              N   \n",
       "2                          N                              N   \n",
       "3                          N                              N   \n",
       "4                          N                              N   \n",
       "\n",
       "  raw_intervention_disposition_code  \n",
       "0                                 I  \n",
       "1                                 I  \n",
       "2                                 I  \n",
       "3                                 I  \n",
       "4                                 I  \n",
       "\n",
       "[5 rows x 26 columns]"
      ]
     },
     "metadata": {},
     "output_type": "display_data"
    }
   ],
   "source": [
    "df = pd.read_csv('hartford.csv')\n",
    "print(\"The data has {} columns and {} rows.\".format(df.shape[0], df.shape[1]))\n",
    "display(df.head())"
   ]
  },
  {
   "cell_type": "code",
   "execution_count": 891,
   "metadata": {},
   "outputs": [
    {
     "data": {
      "text/plain": [
       "Index(['raw_row_number', 'date', 'time', 'location', 'lat', 'lng', 'district',\n",
       "       'subject_age', 'subject_race', 'subject_sex', 'officer_id_hash',\n",
       "       'department_name', 'type', 'arrest_made', 'citation_issued',\n",
       "       'warning_issued', 'outcome', 'contraband_found', 'search_conducted',\n",
       "       'search_vehicle', 'search_basis', 'reason_for_stop',\n",
       "       'raw_subject_race_code', 'raw_subject_ethnicity_code',\n",
       "       'raw_search_authorization_code', 'raw_intervention_disposition_code'],\n",
       "      dtype='object')"
      ]
     },
     "execution_count": 891,
     "metadata": {},
     "output_type": "execute_result"
    }
   ],
   "source": [
    "\n",
    "\n",
    "df.columns"
   ]
  },
  {
   "cell_type": "code",
   "execution_count": 892,
   "metadata": {},
   "outputs": [
    {
     "name": "stdout",
     "output_type": "stream",
     "text": [
      "Index(['citation_issued', 'warning_issued', 'subject_age', 'search_conducted'], dtype='object')\n",
      "Index(['subject_sex', 'arrest_made', 'outcome', 'reason_for_stop',\n",
      "       'officer_id_hash'],\n",
      "      dtype='object')\n"
     ]
    }
   ],
   "source": [
    "df = df[['subject_sex', 'arrest_made', 'citation_issued', 'warning_issued', 'outcome', 'reason_for_stop', 'subject_age', 'search_conducted', 'officer_id_hash']]\n",
    "num_vars = df.columns[df.dtypes != 'object']\n",
    "cat_vars = df.columns[df.dtypes == 'object']\n",
    "print(num_vars)\n",
    "print(cat_vars)"
   ]
  },
  {
   "cell_type": "code",
   "execution_count": 893,
   "metadata": {},
   "outputs": [
    {
     "data": {
      "text/plain": [
       "subject_age         0.000217\n",
       "citation_issued     0.000000\n",
       "warning_issued      0.000000\n",
       "search_conducted    0.000000\n",
       "dtype: float64"
      ]
     },
     "execution_count": 893,
     "metadata": {},
     "output_type": "execute_result"
    }
   ],
   "source": [
    "df[num_vars].isnull().sum().sort_values(ascending=False)/df.shape[0]"
   ]
  },
  {
   "cell_type": "code",
   "execution_count": 894,
   "metadata": {},
   "outputs": [],
   "source": [
    "meanVal = df['subject_age'].mean()\n",
    "df['subject_age'].fillna(value=meanVal, inplace=True)"
   ]
  },
  {
   "cell_type": "code",
   "execution_count": 895,
   "metadata": {},
   "outputs": [
    {
     "data": {
      "text/plain": [
       "citation_issued     0.0\n",
       "warning_issued      0.0\n",
       "subject_age         0.0\n",
       "search_conducted    0.0\n",
       "dtype: float64"
      ]
     },
     "execution_count": 895,
     "metadata": {},
     "output_type": "execute_result"
    }
   ],
   "source": [
    "df[num_vars].isnull().sum().sort_values(ascending=False)/df.shape[0]"
   ]
  },
  {
   "cell_type": "code",
   "execution_count": 896,
   "metadata": {},
   "outputs": [
    {
     "data": {
      "text/plain": [
       "outcome            0.136775\n",
       "arrest_made        0.000271\n",
       "subject_sex        0.000000\n",
       "reason_for_stop    0.000000\n",
       "officer_id_hash    0.000000\n",
       "dtype: float64"
      ]
     },
     "execution_count": 896,
     "metadata": {},
     "output_type": "execute_result"
    }
   ],
   "source": [
    "df[cat_vars].isnull().sum().sort_values(ascending=False)/df.shape[0]"
   ]
  },
  {
   "cell_type": "code",
   "execution_count": 897,
   "metadata": {},
   "outputs": [
    {
     "data": {
      "text/plain": [
       "subject_sex        0.0\n",
       "arrest_made        0.0\n",
       "outcome            0.0\n",
       "reason_for_stop    0.0\n",
       "officer_id_hash    0.0\n",
       "dtype: float64"
      ]
     },
     "execution_count": 897,
     "metadata": {},
     "output_type": "execute_result"
    }
   ],
   "source": [
    "df[cat_vars] = df[cat_vars].fillna(value=\"Missing data\")\n",
    "df[cat_vars].isnull().sum().sort_values(ascending=False)/df.shape[0]\n"
   ]
  },
  {
   "cell_type": "markdown",
   "metadata": {},
   "source": [
    "# Do men or women speed more often?"
   ]
  },
  {
   "cell_type": "code",
   "execution_count": 898,
   "metadata": {},
   "outputs": [
    {
     "data": {
      "text/html": [
       "<div>\n",
       "<style scoped>\n",
       "    .dataframe tbody tr th:only-of-type {\n",
       "        vertical-align: middle;\n",
       "    }\n",
       "\n",
       "    .dataframe tbody tr th {\n",
       "        vertical-align: top;\n",
       "    }\n",
       "\n",
       "    .dataframe thead th {\n",
       "        text-align: right;\n",
       "    }\n",
       "</style>\n",
       "<table border=\"1\" class=\"dataframe\">\n",
       "  <thead>\n",
       "    <tr style=\"text-align: right;\">\n",
       "      <th></th>\n",
       "      <th>subject_sex</th>\n",
       "      <th>Count</th>\n",
       "    </tr>\n",
       "  </thead>\n",
       "  <tbody>\n",
       "    <tr>\n",
       "      <th>0</th>\n",
       "      <td>female</td>\n",
       "      <td>1551</td>\n",
       "    </tr>\n",
       "    <tr>\n",
       "      <th>1</th>\n",
       "      <td>male</td>\n",
       "      <td>1983</td>\n",
       "    </tr>\n",
       "  </tbody>\n",
       "</table>\n",
       "</div>"
      ],
      "text/plain": [
       "  subject_sex  Count\n",
       "0      female   1551\n",
       "1        male   1983"
      ]
     },
     "execution_count": 898,
     "metadata": {},
     "output_type": "execute_result"
    }
   ],
   "source": [
    "speeding_df = df[df['reason_for_stop'] == 'Speed Related']\n",
    "gender_counts = speeding_df.groupby(['subject_sex']).size().reset_index(name='Count')\n",
    "gender_counts"
   ]
  },
  {
   "cell_type": "code",
   "execution_count": 899,
   "metadata": {},
   "outputs": [
    {
     "name": "stdout",
     "output_type": "stream",
     "text": [
      "Total amount of stops related to speeding is: 3534\n",
      "Of which male percentage is: 56%,\n",
      "and female percentage is: 44%\n"
     ]
    }
   ],
   "source": [
    "male_num = gender_counts.iloc[1,1]\n",
    "female_num = gender_counts.iloc[0,1]\n",
    "total_num = gender_counts['Count'].sum()\n",
    "\n",
    "print(f\"Total amount of stops related to speeding is: {total_num}\")\n",
    "print(f\"Of which male percentage is: {round(male_num / total_num * 100)}%,\")\n",
    "print(f\"and female percentage is: {round(female_num / total_num * 100)}%\")"
   ]
  },
  {
   "cell_type": "markdown",
   "metadata": {},
   "source": [
    "# Does gender affect who gets searched during a stop?"
   ]
  },
  {
   "cell_type": "code",
   "execution_count": 900,
   "metadata": {},
   "outputs": [
    {
     "data": {
      "text/html": [
       "<div>\n",
       "<style scoped>\n",
       "    .dataframe tbody tr th:only-of-type {\n",
       "        vertical-align: middle;\n",
       "    }\n",
       "\n",
       "    .dataframe tbody tr th {\n",
       "        vertical-align: top;\n",
       "    }\n",
       "\n",
       "    .dataframe thead th {\n",
       "        text-align: right;\n",
       "    }\n",
       "</style>\n",
       "<table border=\"1\" class=\"dataframe\">\n",
       "  <thead>\n",
       "    <tr style=\"text-align: right;\">\n",
       "      <th></th>\n",
       "      <th>subject_sex</th>\n",
       "      <th>count</th>\n",
       "    </tr>\n",
       "  </thead>\n",
       "  <tbody>\n",
       "    <tr>\n",
       "      <th>0</th>\n",
       "      <td>male</td>\n",
       "      <td>11426</td>\n",
       "    </tr>\n",
       "    <tr>\n",
       "      <th>1</th>\n",
       "      <td>female</td>\n",
       "      <td>7013</td>\n",
       "    </tr>\n",
       "  </tbody>\n",
       "</table>\n",
       "</div>"
      ],
      "text/plain": [
       "  subject_sex  count\n",
       "0        male  11426\n",
       "1      female   7013"
      ]
     },
     "execution_count": 900,
     "metadata": {},
     "output_type": "execute_result"
    }
   ],
   "source": [
    "\n",
    "# Calculate the total stops by gender\n",
    "gender_stops_counts = df['subject_sex'].value_counts().reset_index()\n",
    "gender_stops_counts\n"
   ]
  },
  {
   "cell_type": "code",
   "execution_count": 901,
   "metadata": {},
   "outputs": [
    {
     "name": "stdout",
     "output_type": "stream",
     "text": [
      "Total amount of stops is: 18439\n",
      "Of which male who got searched percentage is: 62%,\n",
      "and female percentage is: 38%\n"
     ]
    }
   ],
   "source": [
    "total_stops_male = gender_stops_counts.iloc[0,1]\n",
    "total_stops_female = gender_stops_counts.iloc[1,1]\n",
    "total_stops = df['subject_sex'].count()\n",
    "\n",
    "searched_male_df = df[(df['search_conducted'] == True) & (df['subject_sex'] == 'male')].shape[0]\n",
    "searched_female_df = df[(df['search_conducted'] == True) & (df['subject_sex'] == 'female')].shape[0]\n",
    "\n",
    "print(f\"Total amount of stops is: {total_stops}\")\n",
    "print(f\"Of which male who got searched percentage is: {round(total_stops_male / total_stops * 100)}%,\")\n",
    "print(f\"and female percentage is: {round(total_stops_female / total_stops * 100)}%\")"
   ]
  },
  {
   "cell_type": "code",
   "execution_count": 903,
   "metadata": {},
   "outputs": [
    {
     "data": {
      "text/html": [
       "<div>\n",
       "<style scoped>\n",
       "    .dataframe tbody tr th:only-of-type {\n",
       "        vertical-align: middle;\n",
       "    }\n",
       "\n",
       "    .dataframe tbody tr th {\n",
       "        vertical-align: top;\n",
       "    }\n",
       "\n",
       "    .dataframe thead th {\n",
       "        text-align: right;\n",
       "    }\n",
       "</style>\n",
       "<table border=\"1\" class=\"dataframe\">\n",
       "  <thead>\n",
       "    <tr style=\"text-align: right;\">\n",
       "      <th></th>\n",
       "      <th>officer_id_hash</th>\n",
       "      <th>Amount of arrests</th>\n",
       "    </tr>\n",
       "  </thead>\n",
       "  <tbody>\n",
       "    <tr>\n",
       "      <th>0</th>\n",
       "      <td>df0b54e2c2</td>\n",
       "      <td>905</td>\n",
       "    </tr>\n",
       "    <tr>\n",
       "      <th>1</th>\n",
       "      <td>09739d95d7</td>\n",
       "      <td>530</td>\n",
       "    </tr>\n",
       "    <tr>\n",
       "      <th>2</th>\n",
       "      <td>720f053826</td>\n",
       "      <td>478</td>\n",
       "    </tr>\n",
       "    <tr>\n",
       "      <th>3</th>\n",
       "      <td>81f290e452</td>\n",
       "      <td>431</td>\n",
       "    </tr>\n",
       "    <tr>\n",
       "      <th>4</th>\n",
       "      <td>484fe0dd72</td>\n",
       "      <td>383</td>\n",
       "    </tr>\n",
       "    <tr>\n",
       "      <th>...</th>\n",
       "      <td>...</td>\n",
       "      <td>...</td>\n",
       "    </tr>\n",
       "    <tr>\n",
       "      <th>86</th>\n",
       "      <td>8a76987f67</td>\n",
       "      <td>1</td>\n",
       "    </tr>\n",
       "    <tr>\n",
       "      <th>87</th>\n",
       "      <td>8e96048f74</td>\n",
       "      <td>1</td>\n",
       "    </tr>\n",
       "    <tr>\n",
       "      <th>88</th>\n",
       "      <td>95d30edaab</td>\n",
       "      <td>1</td>\n",
       "    </tr>\n",
       "    <tr>\n",
       "      <th>89</th>\n",
       "      <td>96c5c7ab1a</td>\n",
       "      <td>1</td>\n",
       "    </tr>\n",
       "    <tr>\n",
       "      <th>90</th>\n",
       "      <td>8598fa9a6d</td>\n",
       "      <td>1</td>\n",
       "    </tr>\n",
       "  </tbody>\n",
       "</table>\n",
       "<p>91 rows × 2 columns</p>\n",
       "</div>"
      ],
      "text/plain": [
       "   officer_id_hash  Amount of arrests\n",
       "0       df0b54e2c2                905\n",
       "1       09739d95d7                530\n",
       "2       720f053826                478\n",
       "3       81f290e452                431\n",
       "4       484fe0dd72                383\n",
       "..             ...                ...\n",
       "86      8a76987f67                  1\n",
       "87      8e96048f74                  1\n",
       "88      95d30edaab                  1\n",
       "89      96c5c7ab1a                  1\n",
       "90      8598fa9a6d                  1\n",
       "\n",
       "[91 rows x 2 columns]"
      ]
     },
     "execution_count": 903,
     "metadata": {},
     "output_type": "execute_result"
    }
   ],
   "source": [
    "\n",
    "officer_id_df = speeding_df.groupby(['officer_id_hash']).size().sort_values(ascending=False).reset_index(name='Amount of arrests')\n",
    "officer_id_df"
   ]
  }
 ],
 "metadata": {
  "kernelspec": {
   "display_name": "Python 3.11.2 64-bit",
   "language": "python",
   "name": "python3"
  },
  "language_info": {
   "codemirror_mode": {
    "name": "ipython",
    "version": 3
   },
   "file_extension": ".py",
   "mimetype": "text/x-python",
   "name": "python",
   "nbconvert_exporter": "python",
   "pygments_lexer": "ipython3",
   "version": "3.11.2"
  },
  "orig_nbformat": 4,
  "vscode": {
   "interpreter": {
    "hash": "b0fa6594d8f4cbf19f97940f81e996739fb7646882a419484c72d19e05852a7e"
   }
  }
 },
 "nbformat": 4,
 "nbformat_minor": 2
}
