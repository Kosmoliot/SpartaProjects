{
 "cells": [
  {
   "cell_type": "code",
   "execution_count": 8,
   "metadata": {},
   "outputs": [],
   "source": [
    "import pandas as pd\n",
    "import json\n",
    "import boto3\n",
    "\n",
    "s3_client = boto3.client('s3')\n",
    "\n",
    "def show(key:str):\n",
    "    obj = s3_client.get_object(Bucket='data-eng-228-final-project', Key=key)\n",
    "    filetype = key[key.index('.'):]\n",
    "    if filetype == '.csv':\n",
    "        data = pd.read_csv(obj['Body'])\n",
    "        return data\n",
    "    elif filetype == '.json':\n",
    "        data = json.load(obj['Body'])\n",
    "        print(data)\n",
    "    elif filetype == '.txt':\n",
    "        print(obj['Body'].read().decode('utf-8'))"
   ]
  },
  {
   "cell_type": "code",
   "execution_count": 9,
   "metadata": {},
   "outputs": [
    {
     "name": "stdout",
     "output_type": "stream",
     "text": [
      "{'name': 'Stillmann Castano', 'date': '22/08/2019', 'tech_self_score': {'C#': 6, 'Java': 5, 'R': 2, 'JavaScript': 2}, 'strengths': ['Charisma'], 'weaknesses': ['Distracted', 'Impulsive', 'Introverted'], 'self_development': 'Yes', 'geo_flex': 'Yes', 'financial_support_self': 'Yes', 'result': 'Pass', 'course_interest': 'Business'}\n"
     ]
    }
   ],
   "source": [
    "show(\"Talent/10383.json\")"
   ]
  },
  {
   "cell_type": "code",
   "execution_count": 10,
   "metadata": {},
   "outputs": [
    {
     "data": {
      "text/plain": [
       "0    [Distracted, Impulsive, Introverted]\n",
       "Name: weaknesses, dtype: object"
      ]
     },
     "execution_count": 10,
     "metadata": {},
     "output_type": "execute_result"
    }
   ],
   "source": [
    "with open('10383.json') as f:\n",
    "    data = json.load(f)\n",
    "\n",
    "norm_data = pd.json_normalize(data)\n",
    "\n",
    "norm_data[\"weaknesses\"]"
   ]
  }
 ],
 "metadata": {
  "kernelspec": {
   "display_name": "Python 3.8.9 ('venv': venv)",
   "language": "python",
   "name": "python3"
  },
  "language_info": {
   "codemirror_mode": {
    "name": "ipython",
    "version": 3
   },
   "file_extension": ".py",
   "mimetype": "text/x-python",
   "name": "python",
   "nbconvert_exporter": "python",
   "pygments_lexer": "ipython3",
   "version": "3.8.9"
  },
  "orig_nbformat": 4,
  "vscode": {
   "interpreter": {
    "hash": "8899f9f2636f46b4d6fd1f2cf132b47bec4f5f5868561142c0743ca30a81ba5c"
   }
  }
 },
 "nbformat": 4,
 "nbformat_minor": 2
}
