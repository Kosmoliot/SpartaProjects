{
 "cells": [
  {
   "cell_type": "code",
   "execution_count": 16,
   "metadata": {},
   "outputs": [],
   "source": [
    "import pandas as pd"
   ]
  },
  {
   "cell_type": "code",
   "execution_count": 17,
   "metadata": {},
   "outputs": [
    {
     "name": "stdout",
     "output_type": "stream",
     "text": [
      "The Data set has 1001 rows and 14 columns\n"
     ]
    },
    {
     "data": {
      "text/html": [
       "<div>\n",
       "<style scoped>\n",
       "    .dataframe tbody tr th:only-of-type {\n",
       "        vertical-align: middle;\n",
       "    }\n",
       "\n",
       "    .dataframe tbody tr th {\n",
       "        vertical-align: top;\n",
       "    }\n",
       "\n",
       "    .dataframe thead th {\n",
       "        text-align: right;\n",
       "    }\n",
       "</style>\n",
       "<table border=\"1\" class=\"dataframe\">\n",
       "  <thead>\n",
       "    <tr style=\"text-align: right;\">\n",
       "      <th></th>\n",
       "      <th>Age</th>\n",
       "      <th>Annual Salary</th>\n",
       "      <th>Bonus %</th>\n",
       "    </tr>\n",
       "  </thead>\n",
       "  <tbody>\n",
       "    <tr>\n",
       "      <th>count</th>\n",
       "      <td>1001.000000</td>\n",
       "      <td>1001.000000</td>\n",
       "      <td>1001.000000</td>\n",
       "    </tr>\n",
       "    <tr>\n",
       "      <th>mean</th>\n",
       "      <td>44.458541</td>\n",
       "      <td>109290.779221</td>\n",
       "      <td>0.079680</td>\n",
       "    </tr>\n",
       "    <tr>\n",
       "      <th>std</th>\n",
       "      <td>11.223838</td>\n",
       "      <td>53715.564559</td>\n",
       "      <td>0.118347</td>\n",
       "    </tr>\n",
       "    <tr>\n",
       "      <th>min</th>\n",
       "      <td>25.000000</td>\n",
       "      <td>40352.000000</td>\n",
       "      <td>0.000000</td>\n",
       "    </tr>\n",
       "    <tr>\n",
       "      <th>25%</th>\n",
       "      <td>35.000000</td>\n",
       "      <td>70340.000000</td>\n",
       "      <td>0.000000</td>\n",
       "    </tr>\n",
       "    <tr>\n",
       "      <th>50%</th>\n",
       "      <td>45.000000</td>\n",
       "      <td>91835.000000</td>\n",
       "      <td>0.000000</td>\n",
       "    </tr>\n",
       "    <tr>\n",
       "      <th>75%</th>\n",
       "      <td>54.000000</td>\n",
       "      <td>138215.000000</td>\n",
       "      <td>0.120000</td>\n",
       "    </tr>\n",
       "    <tr>\n",
       "      <th>max</th>\n",
       "      <td>65.000000</td>\n",
       "      <td>258734.000000</td>\n",
       "      <td>0.400000</td>\n",
       "    </tr>\n",
       "  </tbody>\n",
       "</table>\n",
       "</div>"
      ],
      "text/plain": [
       "               Age  Annual Salary      Bonus %\n",
       "count  1001.000000    1001.000000  1001.000000\n",
       "mean     44.458541  109290.779221     0.079680\n",
       "std      11.223838   53715.564559     0.118347\n",
       "min      25.000000   40352.000000     0.000000\n",
       "25%      35.000000   70340.000000     0.000000\n",
       "50%      45.000000   91835.000000     0.000000\n",
       "75%      54.000000  138215.000000     0.120000\n",
       "max      65.000000  258734.000000     0.400000"
      ]
     },
     "metadata": {},
     "output_type": "display_data"
    },
    {
     "data": {
      "text/html": [
       "<div>\n",
       "<style scoped>\n",
       "    .dataframe tbody tr th:only-of-type {\n",
       "        vertical-align: middle;\n",
       "    }\n",
       "\n",
       "    .dataframe tbody tr th {\n",
       "        vertical-align: top;\n",
       "    }\n",
       "\n",
       "    .dataframe thead th {\n",
       "        text-align: right;\n",
       "    }\n",
       "</style>\n",
       "<table border=\"1\" class=\"dataframe\">\n",
       "  <thead>\n",
       "    <tr style=\"text-align: right;\">\n",
       "      <th></th>\n",
       "      <th>Employee ID</th>\n",
       "      <th>Full Name</th>\n",
       "      <th>Job Title</th>\n",
       "      <th>Department</th>\n",
       "      <th>Business Unit</th>\n",
       "      <th>Gender</th>\n",
       "      <th>Ethnicity</th>\n",
       "      <th>Age</th>\n",
       "      <th>Hire Date</th>\n",
       "      <th>Annual Salary</th>\n",
       "      <th>Bonus %</th>\n",
       "      <th>Country</th>\n",
       "      <th>City</th>\n",
       "      <th>Exit Date</th>\n",
       "    </tr>\n",
       "  </thead>\n",
       "  <tbody>\n",
       "    <tr>\n",
       "      <th>0</th>\n",
       "      <td>E02002</td>\n",
       "      <td>Kai Le</td>\n",
       "      <td>Controls Engineer</td>\n",
       "      <td>Engineering</td>\n",
       "      <td>Manufacturing</td>\n",
       "      <td>Male</td>\n",
       "      <td>Asian</td>\n",
       "      <td>47</td>\n",
       "      <td>2022-02-05</td>\n",
       "      <td>92368</td>\n",
       "      <td>0.00</td>\n",
       "      <td>United States</td>\n",
       "      <td>Columbus</td>\n",
       "      <td>NaN</td>\n",
       "    </tr>\n",
       "    <tr>\n",
       "      <th>1</th>\n",
       "      <td>E02003</td>\n",
       "      <td>Robert Patel</td>\n",
       "      <td>Analyst</td>\n",
       "      <td>Sales</td>\n",
       "      <td>Corporate</td>\n",
       "      <td>Male</td>\n",
       "      <td>Asian</td>\n",
       "      <td>58</td>\n",
       "      <td>2013-10-23</td>\n",
       "      <td>45703</td>\n",
       "      <td>0.00</td>\n",
       "      <td>United States</td>\n",
       "      <td>Chicago</td>\n",
       "      <td>NaN</td>\n",
       "    </tr>\n",
       "    <tr>\n",
       "      <th>2</th>\n",
       "      <td>E02004</td>\n",
       "      <td>Cameron Lo</td>\n",
       "      <td>Network Administrator</td>\n",
       "      <td>IT</td>\n",
       "      <td>Research &amp; Development</td>\n",
       "      <td>Male</td>\n",
       "      <td>Asian</td>\n",
       "      <td>34</td>\n",
       "      <td>2019-03-24</td>\n",
       "      <td>83576</td>\n",
       "      <td>0.00</td>\n",
       "      <td>China</td>\n",
       "      <td>Shanghai</td>\n",
       "      <td>NaN</td>\n",
       "    </tr>\n",
       "    <tr>\n",
       "      <th>3</th>\n",
       "      <td>E02005</td>\n",
       "      <td>Harper Castillo</td>\n",
       "      <td>IT Systems Architect</td>\n",
       "      <td>IT</td>\n",
       "      <td>Corporate</td>\n",
       "      <td>Female</td>\n",
       "      <td>Latino</td>\n",
       "      <td>39</td>\n",
       "      <td>2018-04-07</td>\n",
       "      <td>98062</td>\n",
       "      <td>0.00</td>\n",
       "      <td>United States</td>\n",
       "      <td>Seattle</td>\n",
       "      <td>NaN</td>\n",
       "    </tr>\n",
       "    <tr>\n",
       "      <th>4</th>\n",
       "      <td>E02006</td>\n",
       "      <td>Harper Dominguez</td>\n",
       "      <td>Director</td>\n",
       "      <td>Engineering</td>\n",
       "      <td>Corporate</td>\n",
       "      <td>Female</td>\n",
       "      <td>Latino</td>\n",
       "      <td>42</td>\n",
       "      <td>2005-06-18</td>\n",
       "      <td>175391</td>\n",
       "      <td>0.24</td>\n",
       "      <td>United States</td>\n",
       "      <td>Austin</td>\n",
       "      <td>NaN</td>\n",
       "    </tr>\n",
       "  </tbody>\n",
       "</table>\n",
       "</div>"
      ],
      "text/plain": [
       "  Employee ID         Full Name              Job Title   Department   \n",
       "0      E02002            Kai Le      Controls Engineer  Engineering  \\\n",
       "1      E02003      Robert Patel                Analyst        Sales   \n",
       "2      E02004        Cameron Lo  Network Administrator           IT   \n",
       "3      E02005   Harper Castillo   IT Systems Architect           IT   \n",
       "4      E02006  Harper Dominguez               Director  Engineering   \n",
       "\n",
       "            Business Unit  Gender Ethnicity  Age   Hire Date  Annual Salary   \n",
       "0           Manufacturing    Male     Asian   47  2022-02-05          92368  \\\n",
       "1               Corporate    Male     Asian   58  2013-10-23          45703   \n",
       "2  Research & Development    Male     Asian   34  2019-03-24          83576   \n",
       "3               Corporate  Female    Latino   39  2018-04-07          98062   \n",
       "4               Corporate  Female    Latino   42  2005-06-18         175391   \n",
       "\n",
       "   Bonus %        Country      City Exit Date  \n",
       "0     0.00  United States  Columbus       NaN  \n",
       "1     0.00  United States   Chicago       NaN  \n",
       "2     0.00          China  Shanghai       NaN  \n",
       "3     0.00  United States   Seattle       NaN  \n",
       "4     0.24  United States    Austin       NaN  "
      ]
     },
     "metadata": {},
     "output_type": "display_data"
    },
    {
     "data": {
      "text/plain": [
       "object     11\n",
       "int64       2\n",
       "float64     1\n",
       "Name: count, dtype: int64"
      ]
     },
     "metadata": {},
     "output_type": "display_data"
    }
   ],
   "source": [
    "df = pd.read_csv('employee_data.csv')\n",
    "print(\"The Data set has {} rows and {} columns\".format(df.shape[0], df.shape[1]))\n",
    "display(df.describe())\n",
    "display(df.head())\n",
    "display(df.dtypes.value_counts())"
   ]
  },
  {
   "cell_type": "code",
   "execution_count": 18,
   "metadata": {},
   "outputs": [
    {
     "name": "stdout",
     "output_type": "stream",
     "text": [
      "Index(['Age', 'Annual Salary', 'Bonus %'], dtype='object')\n",
      "Index(['Employee ID', 'Full Name', 'Job Title', 'Department', 'Business Unit',\n",
      "       'Gender', 'Ethnicity', 'Hire Date', 'Country', 'City', 'Exit Date'],\n",
      "      dtype='object')\n"
     ]
    }
   ],
   "source": [
    "num_vars = df.columns[df.dtypes != 'object']\n",
    "cat_vars = df.columns[df.dtypes == 'object']\n",
    "\n",
    "print(num_vars)\n",
    "print(cat_vars)"
   ]
  },
  {
   "cell_type": "code",
   "execution_count": 23,
   "metadata": {},
   "outputs": [
    {
     "data": {
      "text/plain": [
       "Age              0.0\n",
       "Annual Salary    0.0\n",
       "Bonus %          0.0\n",
       "dtype: float64"
      ]
     },
     "execution_count": 23,
     "metadata": {},
     "output_type": "execute_result"
    }
   ],
   "source": [
    "df[num_vars].isnull().sum().sort_values(ascending=False)/len(df)\n"
   ]
  },
  {
   "cell_type": "code",
   "execution_count": 25,
   "metadata": {},
   "outputs": [
    {
     "data": {
      "text/plain": [
       "Exit Date        0.897103\n",
       "Employee ID      0.000000\n",
       "Full Name        0.000000\n",
       "Job Title        0.000000\n",
       "Department       0.000000\n",
       "Business Unit    0.000000\n",
       "Gender           0.000000\n",
       "Ethnicity        0.000000\n",
       "Hire Date        0.000000\n",
       "Country          0.000000\n",
       "City             0.000000\n",
       "dtype: float64"
      ]
     },
     "execution_count": 25,
     "metadata": {},
     "output_type": "execute_result"
    }
   ],
   "source": [
    "df[cat_vars].isnull().sum().sort_values(ascending=False)/len(df)\n"
   ]
  },
  {
   "cell_type": "code",
   "execution_count": 41,
   "metadata": {},
   "outputs": [
    {
     "name": "stdout",
     "output_type": "stream",
     "text": [
      "Unique values in Job Title: ['Controls Engineer' 'Analyst' 'Network Administrator'\n",
      " 'IT Systems Architect' 'Director' 'Sr. Analyst' 'Analyst II'\n",
      " 'System Administrator\\xa0' 'Manager' 'Systems Analyst' 'Sr. Manager'\n",
      " 'Vice President' 'Service Desk Analyst' 'Technical Architect'\n",
      " 'Account Representative' 'Business Partner' 'Test Engineer'\n",
      " 'IT Coordinator' 'Cloud Infrastructure Architect' 'Enterprise Architect'\n",
      " 'Computer Systems Manager' 'Automation Engineer' 'Solutions Architect'\n",
      " 'Sr. Business Partner' 'HRIS Analyst' 'Engineering Manager'\n",
      " 'Field Engineer' 'Network Engineer' 'Network Architect'\n",
      " 'Sr. Account Representative' 'Development Engineer' 'Quality Engineer'\n",
      " 'Operations Engineer']\n",
      "Unique values in Department: ['Engineering' 'Sales' 'IT' 'Accounting' 'Finance' 'Marketing'\n",
      " 'Human Resources']\n",
      "Unique values in Business Unit: ['Manufacturing' 'Corporate' 'Research & Development' 'Specialty Products']\n",
      "Unique values in Gender: ['Male' 'Female' 'Femae']\n",
      "Unique values in Ethnicity: ['Asian' 'Latino' 'Caucasian' 'Black']\n",
      "Unique values in Country: ['United States' 'China' 'Brazil']\n",
      "Unique values in City: ['Columbus' 'Chicago' 'Shanghai' 'Seattle' 'Austin' 'Phoenix' 'Chongqing'\n",
      " 'Chengdu' 'Miami' 'Beijing' 'Rio de Janeiro' 'Sao Paulo' 'Manaus']\n"
     ]
    }
   ],
   "source": [
    "list1 = [\"Job Title\", \"Department\", \"Business Unit\", \"Gender\", \"Ethnicity\", \"Country\", \"City\"]\n",
    "for column in list1:\n",
    "    unique = df[column].unique()\n",
    "    print(f\"Unique values in {column}: {unique}\")"
   ]
  }
 ],
 "metadata": {
  "kernelspec": {
   "display_name": "Python 3.11.2 64-bit",
   "language": "python",
   "name": "python3"
  },
  "language_info": {
   "codemirror_mode": {
    "name": "ipython",
    "version": 3
   },
   "file_extension": ".py",
   "mimetype": "text/x-python",
   "name": "python",
   "nbconvert_exporter": "python",
   "pygments_lexer": "ipython3",
   "version": "3.11.2"
  },
  "orig_nbformat": 4,
  "vscode": {
   "interpreter": {
    "hash": "b0fa6594d8f4cbf19f97940f81e996739fb7646882a419484c72d19e05852a7e"
   }
  }
 },
 "nbformat": 4,
 "nbformat_minor": 2
}
